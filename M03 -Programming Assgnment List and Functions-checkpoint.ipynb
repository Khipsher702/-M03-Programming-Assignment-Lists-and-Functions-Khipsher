{
 "cells": [
  {
   "cell_type": "code",
   "execution_count": null,
   "id": "463202d0-1ae3-426a-af54-99caf9f9b7c0",
   "metadata": {
    "tags": []
   },
   "outputs": [
    {
     "name": "stdout",
     "output_type": "stream",
     "text": [
      "Initial list of things\n",
      "['mozzarella', 'cinderella ', 'salmonella']\n",
      "List with person being capitalized\n",
      "['mozzarella', 'Cinderella ', 'salmonella']\n",
      "List with cheesy thing converted to upper\n",
      "['MOZZARELLA', 'Cinderella ', 'salmonella']\n",
      "List with disease removed \n",
      "['MOZZARELLA', 'Cinderella ']\n",
      "List with new element\n",
      "['MOZZARELLA', 'Cinderella ', 'Noble Prize']\n"
     ]
    }
   ],
   "source": [
    "#M03-Programming-Assignment-Lists-and-Functions/Khipsher\n",
    "thing=[\"mozzarella\", \"cinderella \", \"salmonella\"]\n",
    "print(\"Initial list of things\")\n",
    "print(thing)\n",
    "thing[1]=thing[1].capitalize()\n",
    "print(\"List with person being capitalized\")\n",
    "print(thing)\n",
    "thing[0]=thing[0].upper()\n",
    "print(\"List with cheesy thing converted to upper\")\n",
    "print(thing)\n",
    "print(\"List with disease removed \")\n",
    "thing.remove(thing[2])\n",
    "print(thing)\n",
    "#add this if that is what is mend\n",
    "print(\"List with new element\")\n",
    "thing.append(\"Noble Prize\")\n",
    "print(thing)\n"
   ]
  },
  {
   "cell_type": "code",
   "execution_count": null,
   "id": "7fcf02a3-c0ce-431e-a244-aad50670c138",
   "metadata": {},
   "outputs": [],
   "source": []
  }
 ],
 "metadata": {
  "kernelspec": {
   "display_name": "Python 3",
   "language": "python",
   "name": "python3"
  },
  "language_info": {
   "codemirror_mode": {
    "name": "ipython",
    "version": 3
   },
   "file_extension": ".py",
   "mimetype": "text/x-python",
   "name": "python",
   "nbconvert_exporter": "python",
   "pygments_lexer": "ipython3",
   "version": "3.10.7"
  }
 },
 "nbformat": 4,
 "nbformat_minor": 5
}
